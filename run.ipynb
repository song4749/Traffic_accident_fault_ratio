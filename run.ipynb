{
 "cells": [
  {
   "cell_type": "code",
   "execution_count": null,
   "metadata": {},
   "outputs": [],
   "source": [
    "import streamlit as st\n",
    "import json\n",
    "from langchain_core.prompts import PromptTemplate\n",
    "from langchain_core.documents import Document\n",
    "from langchain_core.output_parsers import StrOutputParser\n",
    "from langchain_community.vectorstores import FAISS\n",
    "from langchain_openai import ChatOpenAI, OpenAIEmbeddings\n",
    "import os\n",
    "from dotenv import load_dotenv"
   ]
  },
  {
   "cell_type": "code",
   "execution_count": null,
   "metadata": {},
   "outputs": [
    {
     "name": "stdout",
     "output_type": "stream",
     "text": [
      "✅ OpenAI API 키가 정상적으로 로드되었습니다.\n"
     ]
    }
   ],
   "source": [
    "def get_api_key():\n",
    "    # .env 파일에서 환경 변수 로드\n",
    "    load_dotenv()\n",
    "\n",
    "    # 환경 변수 가져오기\n",
    "    api_key = os.getenv(\"OPENAI_API_KEY\")\n",
    "    if api_key is None:\n",
    "        print(\"🚨 OpenAI API 키가 설정되지 않았습니다! .env 파일을 확인하세요.\")\n",
    "    else:\n",
    "        print(\"✅ OpenAI API 키가 정상적으로 로드되었습니다.\")\n",
    "\n",
    "get_api_key()"
   ]
  },
  {
   "cell_type": "code",
   "execution_count": null,
   "metadata": {},
   "outputs": [
    {
     "name": "stdout",
     "output_type": "stream",
     "text": [
      "page_content='사고유형: 차2-2\n",
      "자동차 A: 녹색 신호 직진\n",
      "자동차 B: 녹색(적색)신호위반 좌회전\n",
      "사고 설명: 신호기에 의해 교통정리가 이루어지고 있는 교차로에서 녹색신호에 직진하는 A차량과 맞 은편 방향에서 녹색신호에 좌회전(비보호 좌회전이 아님) 또는 적색신호에 좌회전하는 좌 회전 신호위반 B차량이 충돌한 사고이다.\n",
      "과실 비율: A0 : B100'\n",
      "page_content='사고유형: 차55-1\n",
      "자동차 A: 녹색신호 직진\n",
      "자동차 B: 적색신호 직진(긴급자동차)\n",
      "사고 설명: 신호가 있는 교차로에서 A차량은 정상신호에 직진하고 긴급자동차인 B차량은 적색신호에 직진하다 발생하는 사고이다.\n",
      "과실 비율: A60 : B40'\n"
     ]
    }
   ],
   "source": [
    "def load_json_file():\n",
    "    # JSON 데이터 로드 (과실비율 데이터)\n",
    "    with open(\"accident_data.json\", \"r\", encoding=\"utf-8\") as file:\n",
    "        accident_data = json.load(file)\n",
    "\n",
    "    # JSON 데이터를 langchain Document로 변환\n",
    "    documents = []\n",
    "    for case in accident_data:\n",
    "        doc = Document(\n",
    "            page_content=f\"사고유형: {case['사고유형']}\\n자동차 A: {case['자동차 A']}\\n자동차 B: {case['자동차 B']}\\n사고 설명: {case['사고 설명']}\\n과실 비율: {case['과실 비율']}\"\n",
    "        )\n",
    "        documents.append(doc)\n",
    "\n",
    "    # OpenAI Embeddings 사용하여 문서 벡터화\n",
    "    embeddings = OpenAIEmbeddings(model=\"text-embedding-3-small\")\n",
    "    vectorstore = FAISS.from_documents(documents, embeddings)\n",
    "\n",
    "    return vectorstore\n",
    "\n",
    "\n",
    "vectorstore = load_json_file()\n",
    "\n",
    "for doc in vectorstore.similarity_search(\"신호위반\", k=2): # k의 개수로 가져오는 문서 개수 조절 가능\n",
    "    print(doc.page_content)\n",
    "    selected_doc = doc.page_content"
   ]
  },
  {
   "cell_type": "code",
   "execution_count": null,
   "metadata": {},
   "outputs": [],
   "source": [
    "# Streamlit UI\n",
    "st.title(\"🚗 교통사고 과실비율 AI 챗봇\")\n",
    "st.write(\"사고 상황을 설명하면 AI가 과실비율을 알려드립니다.\")\n",
    "\n",
    "user_input = st.text_area(\"✏️ 사고 상황을 입력하세요\", \"\")"
   ]
  },
  {
   "cell_type": "code",
   "execution_count": 12,
   "metadata": {},
   "outputs": [
    {
     "data": {
      "text/plain": [
       "[Document(id='e473e8a1-60b6-4b67-8829-5ff099d2ad46', metadata={}, page_content='사고유형: 차13-2\\n자동차 A: 직진(교차로 내 진로변경)\\n자동차 B: 우회전\\n사고 설명: 신호기에 의해 교통정리가 이루어지고 있지 않은 교차로에서 1차로를 따라 직진하다가 교차로 내에서 2차로로 진로변경을 하는 A차량과 A차량의 진행방향 우측도로에서 우회전을 하는 B차량이 충돌한 사고이다.\\n과실 비율: A60 : B40'),\n",
       " Document(id='b7d43ea2-6997-45ca-a543-036377d46ec3', metadata={}, page_content='사고유형: 차21-1\\n자동차 A: 좌회전(왼쪽차)\\n자동차 B: 좌회전(오른쪽차)\\n사고 설명: 양 차량이 교차로에서 동일방향으로 동시 또는 유사한 시각에 진행함에 있어, 크게 또는 작게 좌회전을 하다가 왼쪽에서 진행하는 A차량과 오른쪽에서 진 행하는 B차량이 충돌한 사고이다.\\n과실 비율: A40 : B60'),\n",
       " Document(id='5607758f-89fe-4024-aee9-f5cbae33d460', metadata={}, page_content='사고유형: 차16-4\\n자동차 A: 소로 직진(왼쪽 도로에서 진입)\\n자동차 B: 대로 좌회전(오른쪽 도로에서 진입)\\n사고 설명: 신호기에 의해 교통정리가 이루어지고 있지 않는 다른 폭의 교차로에서 소로를 이 용하여 직진하는 A차량과 A차량의 진행방향 오른쪽 대로를 이용하여 좌회전하는 B차량이 충돌한 사고이다.\\n과실 비율: A50 : B50'),\n",
       " Document(id='d87d299b-390b-463e-afb3-56231ab40c9c', metadata={}, page_content='사고유형: 차17-1\\n자동차 A: 좌회전(오른쪽 도로에서 진입)\\n자동차 B: 좌회전(왼쪽 도로에서 진입)\\n사고 설명: 신호기에 의해 교통정리가 이루어지고 있지 않는 동일 폭의 교차로에서 좌회전하는 A차량과 A차량의 진행방향 왼쪽 도로에서 좌회전 진입하는 B차량이 충돌한 사고이다.\\n과실 비율: A40 : B60')]"
      ]
     },
     "execution_count": 12,
     "metadata": {},
     "output_type": "execute_result"
    }
   ],
   "source": [
    "# 검색기(Retriever) 생성\n",
    "retriever = vectorstore.as_retriever()\n",
    "\n",
    "# 검색기에 쿼리를 날려 검색된 chunk 결과를 확인합니다. (테스트용)\n",
    "retriever.invoke(\"좌회전 차량과 직진차량과의 사고\")"
   ]
  },
  {
   "cell_type": "code",
   "execution_count": null,
   "metadata": {},
   "outputs": [],
   "source": [
    "# PromptTemplate 설정\n",
    "prompt = PromptTemplate.from_template(\"\"\"\n",
    "당신은 사고 상황을 설명하면 과실비율을 알려주는 챗봇입니다.\n",
    "질문을 보고 참고 문서의 사고 설명과 가장 유사한 사고유형을 찾아 과실비율을 알려주세요.\n",
    "유사한 사례가 없다면 \"유사한 사례가 없습니다. 좀 더 구체적인 상황 설명이 필요합니다.\" 라고 말하세요.\n",
    "대답은 한국어로 해주세요.\n",
    "\n",
    "# 참고 문서: {document}\n",
    "                                      \n",
    "# 질문: {question}\n",
    "\"\"\"\n",
    ")"
   ]
  },
  {
   "cell_type": "code",
   "execution_count": 14,
   "metadata": {},
   "outputs": [],
   "source": [
    "# 언어모델(LLM) 생성\n",
    "llm = ChatOpenAI(model_name=\"gpt-4o\", temperature=0)"
   ]
  },
  {
   "cell_type": "code",
   "execution_count": 15,
   "metadata": {},
   "outputs": [
    {
     "ename": "NameError",
     "evalue": "name 'user_input' is not defined",
     "output_type": "error",
     "traceback": [
      "\u001b[1;31m---------------------------------------------------------------------------\u001b[0m",
      "\u001b[1;31mNameError\u001b[0m                                 Traceback (most recent call last)",
      "Cell \u001b[1;32mIn[15], line 3\u001b[0m\n\u001b[0;32m      1\u001b[0m \u001b[38;5;66;03m# 체인(Chain) 생성\u001b[39;00m\n\u001b[0;32m      2\u001b[0m chain \u001b[38;5;241m=\u001b[39m (\n\u001b[1;32m----> 3\u001b[0m     {\u001b[38;5;124m\"\u001b[39m\u001b[38;5;124mdocument\u001b[39m\u001b[38;5;124m\"\u001b[39m: retriever, \u001b[38;5;124m\"\u001b[39m\u001b[38;5;124mquestion\u001b[39m\u001b[38;5;124m\"\u001b[39m: \u001b[43muser_input\u001b[49m}\n\u001b[0;32m      4\u001b[0m     \u001b[38;5;241m|\u001b[39m prompt\n\u001b[0;32m      5\u001b[0m     \u001b[38;5;241m|\u001b[39m llm\n\u001b[0;32m      6\u001b[0m     \u001b[38;5;241m|\u001b[39m StrOutputParser()     \u001b[38;5;66;03m# 답을 항상 문자열로 출력\u001b[39;00m\n\u001b[0;32m      7\u001b[0m )\n",
      "\u001b[1;31mNameError\u001b[0m: name 'user_input' is not defined"
     ]
    }
   ],
   "source": [
    "# 체인(Chain) 생성\n",
    "chain = (\n",
    "    {\"document\": retriever, \"question\": user_input}\n",
    "    | prompt\n",
    "    | llm\n",
    "    | StrOutputParser()     # 답을 항상 문자열로 출력\n",
    ")"
   ]
  },
  {
   "cell_type": "code",
   "execution_count": null,
   "metadata": {},
   "outputs": [],
   "source": [
    "if st.button(\"🚀 과실비율 분석하기\"):\n",
    "    result = chain.invoke(user_input)\n",
    "    st.write(f\"📌 AI 과실비율 결과: {result}\")"
   ]
  },
  {
   "cell_type": "code",
   "execution_count": 17,
   "metadata": {},
   "outputs": [
    {
     "name": "stdout",
     "output_type": "stream",
     "text": [
      "Collecting nbconvert\n",
      "  Downloading nbconvert-7.16.6-py3-none-any.whl.metadata (8.5 kB)\n",
      "Requirement already satisfied: beautifulsoup4 in c:\\users\\inn10\\appdata\\local\\programs\\python\\python39\\lib\\site-packages (from nbconvert) (4.12.3)\n",
      "Collecting bleach!=5.0.0 (from bleach[css]!=5.0.0->nbconvert)\n",
      "  Downloading bleach-6.2.0-py3-none-any.whl.metadata (30 kB)\n",
      "Collecting defusedxml (from nbconvert)\n",
      "  Downloading defusedxml-0.7.1-py2.py3-none-any.whl.metadata (32 kB)\n",
      "Requirement already satisfied: importlib-metadata>=3.6 in c:\\users\\inn10\\appdata\\local\\programs\\python\\python39\\lib\\site-packages (from nbconvert) (8.5.0)\n",
      "Requirement already satisfied: jinja2>=3.0 in c:\\users\\inn10\\appdata\\local\\programs\\python\\python39\\lib\\site-packages (from nbconvert) (3.1.5)\n",
      "Requirement already satisfied: jupyter-core>=4.7 in c:\\users\\inn10\\appdata\\roaming\\python\\python39\\site-packages (from nbconvert) (5.7.2)\n",
      "Collecting jupyterlab-pygments (from nbconvert)\n",
      "  Downloading jupyterlab_pygments-0.3.0-py3-none-any.whl.metadata (4.4 kB)\n",
      "Requirement already satisfied: markupsafe>=2.0 in c:\\users\\inn10\\appdata\\local\\programs\\python\\python39\\lib\\site-packages (from nbconvert) (3.0.2)\n",
      "Collecting mistune<4,>=2.0.3 (from nbconvert)\n",
      "  Downloading mistune-3.1.1-py3-none-any.whl.metadata (1.7 kB)\n",
      "Collecting nbclient>=0.5.0 (from nbconvert)\n",
      "  Downloading nbclient-0.10.2-py3-none-any.whl.metadata (8.3 kB)\n",
      "Collecting nbformat>=5.7 (from nbconvert)\n",
      "  Downloading nbformat-5.10.4-py3-none-any.whl.metadata (3.6 kB)\n",
      "Requirement already satisfied: packaging in c:\\users\\inn10\\appdata\\local\\programs\\python\\python39\\lib\\site-packages (from nbconvert) (24.2)\n",
      "Collecting pandocfilters>=1.4.1 (from nbconvert)\n",
      "  Downloading pandocfilters-1.5.1-py2.py3-none-any.whl.metadata (9.0 kB)\n",
      "Requirement already satisfied: pygments>=2.4.1 in c:\\users\\inn10\\appdata\\local\\programs\\python\\python39\\lib\\site-packages (from nbconvert) (2.18.0)\n",
      "Requirement already satisfied: traitlets>=5.1 in c:\\users\\inn10\\appdata\\roaming\\python\\python39\\site-packages (from nbconvert) (5.14.3)\n",
      "Collecting webencodings (from bleach!=5.0.0->bleach[css]!=5.0.0->nbconvert)\n",
      "  Downloading webencodings-0.5.1-py2.py3-none-any.whl.metadata (2.1 kB)\n",
      "Collecting tinycss2<1.5,>=1.1.0 (from bleach[css]!=5.0.0->nbconvert)\n",
      "  Downloading tinycss2-1.4.0-py3-none-any.whl.metadata (3.0 kB)\n",
      "Requirement already satisfied: zipp>=3.20 in c:\\users\\inn10\\appdata\\local\\programs\\python\\python39\\lib\\site-packages (from importlib-metadata>=3.6->nbconvert) (3.21.0)\n",
      "Requirement already satisfied: platformdirs>=2.5 in c:\\users\\inn10\\appdata\\roaming\\python\\python39\\site-packages (from jupyter-core>=4.7->nbconvert) (4.3.6)\n",
      "Requirement already satisfied: pywin32>=300 in c:\\users\\inn10\\appdata\\roaming\\python\\python39\\site-packages (from jupyter-core>=4.7->nbconvert) (308)\n",
      "Requirement already satisfied: typing-extensions in c:\\users\\inn10\\appdata\\local\\programs\\python\\python39\\lib\\site-packages (from mistune<4,>=2.0.3->nbconvert) (4.12.2)\n",
      "Requirement already satisfied: jupyter-client>=6.1.12 in c:\\users\\inn10\\appdata\\roaming\\python\\python39\\site-packages (from nbclient>=0.5.0->nbconvert) (8.6.3)\n",
      "Collecting fastjsonschema>=2.15 (from nbformat>=5.7->nbconvert)\n",
      "  Downloading fastjsonschema-2.21.1-py3-none-any.whl.metadata (2.2 kB)\n",
      "Requirement already satisfied: jsonschema>=2.6 in c:\\users\\inn10\\appdata\\local\\programs\\python\\python39\\lib\\site-packages (from nbformat>=5.7->nbconvert) (4.23.0)\n",
      "Requirement already satisfied: soupsieve>1.2 in c:\\users\\inn10\\appdata\\local\\programs\\python\\python39\\lib\\site-packages (from beautifulsoup4->nbconvert) (2.6)\n",
      "Requirement already satisfied: attrs>=22.2.0 in c:\\users\\inn10\\appdata\\local\\programs\\python\\python39\\lib\\site-packages (from jsonschema>=2.6->nbformat>=5.7->nbconvert) (24.3.0)\n",
      "Requirement already satisfied: jsonschema-specifications>=2023.03.6 in c:\\users\\inn10\\appdata\\local\\programs\\python\\python39\\lib\\site-packages (from jsonschema>=2.6->nbformat>=5.7->nbconvert) (2024.10.1)\n",
      "Requirement already satisfied: referencing>=0.28.4 in c:\\users\\inn10\\appdata\\local\\programs\\python\\python39\\lib\\site-packages (from jsonschema>=2.6->nbformat>=5.7->nbconvert) (0.35.1)\n",
      "Requirement already satisfied: rpds-py>=0.7.1 in c:\\users\\inn10\\appdata\\local\\programs\\python\\python39\\lib\\site-packages (from jsonschema>=2.6->nbformat>=5.7->nbconvert) (0.22.3)\n",
      "Requirement already satisfied: python-dateutil>=2.8.2 in c:\\users\\inn10\\appdata\\local\\programs\\python\\python39\\lib\\site-packages (from jupyter-client>=6.1.12->nbclient>=0.5.0->nbconvert) (2.9.0.post0)\n",
      "Requirement already satisfied: pyzmq>=23.0 in c:\\users\\inn10\\appdata\\roaming\\python\\python39\\site-packages (from jupyter-client>=6.1.12->nbclient>=0.5.0->nbconvert) (26.2.0)\n",
      "Requirement already satisfied: tornado>=6.2 in c:\\users\\inn10\\appdata\\local\\programs\\python\\python39\\lib\\site-packages (from jupyter-client>=6.1.12->nbclient>=0.5.0->nbconvert) (6.4.2)\n",
      "Requirement already satisfied: six>=1.5 in c:\\users\\inn10\\appdata\\local\\programs\\python\\python39\\lib\\site-packages (from python-dateutil>=2.8.2->jupyter-client>=6.1.12->nbclient>=0.5.0->nbconvert) (1.17.0)\n",
      "Downloading nbconvert-7.16.6-py3-none-any.whl (258 kB)\n",
      "Downloading bleach-6.2.0-py3-none-any.whl (163 kB)\n",
      "Downloading mistune-3.1.1-py3-none-any.whl (53 kB)\n",
      "Downloading nbclient-0.10.2-py3-none-any.whl (25 kB)\n",
      "Downloading nbformat-5.10.4-py3-none-any.whl (78 kB)\n",
      "Downloading pandocfilters-1.5.1-py2.py3-none-any.whl (8.7 kB)\n",
      "Downloading defusedxml-0.7.1-py2.py3-none-any.whl (25 kB)\n",
      "Downloading jupyterlab_pygments-0.3.0-py3-none-any.whl (15 kB)\n",
      "Downloading fastjsonschema-2.21.1-py3-none-any.whl (23 kB)\n",
      "Downloading tinycss2-1.4.0-py3-none-any.whl (26 kB)\n",
      "Downloading webencodings-0.5.1-py2.py3-none-any.whl (11 kB)\n",
      "Installing collected packages: webencodings, fastjsonschema, tinycss2, pandocfilters, mistune, jupyterlab-pygments, defusedxml, bleach, nbformat, nbclient, nbconvert\n",
      "Successfully installed bleach-6.2.0 defusedxml-0.7.1 fastjsonschema-2.21.1 jupyterlab-pygments-0.3.0 mistune-3.1.1 nbclient-0.10.2 nbconvert-7.16.6 nbformat-5.10.4 pandocfilters-1.5.1 tinycss2-1.4.0 webencodings-0.5.1\n"
     ]
    },
    {
     "name": "stderr",
     "output_type": "stream",
     "text": [
      "WARNING: Ignoring invalid distribution -rotobuf (c:\\users\\inn10\\appdata\\local\\programs\\python\\python39\\lib\\site-packages)\n",
      "WARNING: Ignoring invalid distribution -rotobuf (c:\\users\\inn10\\appdata\\local\\programs\\python\\python39\\lib\\site-packages)\n",
      "WARNING: Ignoring invalid distribution -rotobuf (c:\\users\\inn10\\appdata\\local\\programs\\python\\python39\\lib\\site-packages)\n"
     ]
    }
   ],
   "source": [
    "!pip install nbconvert"
   ]
  },
  {
   "cell_type": "code",
   "execution_count": null,
   "metadata": {},
   "outputs": [
    {
     "name": "stderr",
     "output_type": "stream",
     "text": [
      "[NbConvertApp] WARNING | pattern 'output' matched no files\n",
      "[NbConvertApp] WARNING | pattern 'run.py' matched no files\n",
      "[NbConvertApp] Converting notebook run.ipynb to script\n",
      "[NbConvertApp] Writing 2622 bytes to run.py\n"
     ]
    }
   ],
   "source": [
    "# ipynb를 py로 추가 저장\n",
    "!jupyter nbconvert --to script run.ipynb -- output run.py"
   ]
  }
 ],
 "metadata": {
  "kernelspec": {
   "display_name": "Python 3",
   "language": "python",
   "name": "python3"
  },
  "language_info": {
   "codemirror_mode": {
    "name": "ipython",
    "version": 3
   },
   "file_extension": ".py",
   "mimetype": "text/x-python",
   "name": "python",
   "nbconvert_exporter": "python",
   "pygments_lexer": "ipython3",
   "version": "3.9.11"
  }
 },
 "nbformat": 4,
 "nbformat_minor": 2
}
